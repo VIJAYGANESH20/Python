{
 "cells": [
  {
   "cell_type": "code",
   "execution_count": 21,
   "metadata": {
    "collapsed": false
   },
   "outputs": [
    {
     "name": "stdout",
     "output_type": "stream",
     "text": [
      "Enter the text : The quick brown fox jumps over the  lazy do1.\n",
      "No, the given sentence is not a pangram..!\n"
     ]
    }
   ],
   "source": [
    "text=raw_input('Enter the text : ').lower()\n",
    "text=''.join(set(''.join(z for z in text if z.isalpha())))\n",
    "if(len(text)==26):\n",
    "    print \"Yes, the given sentence is pangram..!\"\n",
    "else:\n",
    "    print \"No, the given sentence is not a pangram..!\""
   ]
  }
 ],
 "metadata": {
  "kernelspec": {
   "display_name": "Python 2",
   "language": "python",
   "name": "python2"
  },
  "language_info": {
   "codemirror_mode": {
    "name": "ipython",
    "version": 2
   },
   "file_extension": ".py",
   "mimetype": "text/x-python",
   "name": "python",
   "nbconvert_exporter": "python",
   "pygments_lexer": "ipython2",
   "version": "2.7.12"
  }
 },
 "nbformat": 4,
 "nbformat_minor": 0
}
