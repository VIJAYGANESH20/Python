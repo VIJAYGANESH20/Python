{
 "cells": [
  {
   "cell_type": "code",
   "execution_count": 119,
   "metadata": {
    "collapsed": false
   },
   "outputs": [
    {
     "name": "stdout",
     "output_type": "stream",
     "text": [
      "Enter the text : Was it a rat I saw?\n"
     ]
    }
   ],
   "source": [
    "text=raw_input('Enter the text : ')\n",
    "orig=text"
   ]
  },
  {
   "cell_type": "code",
   "execution_count": 120,
   "metadata": {
    "collapsed": false
   },
   "outputs": [],
   "source": [
    "text=text.lower()\n",
    "text=text.replace(\" \",\"\")\n",
    "text=''.join(z for z in text if z.isalnum())"
   ]
  },
  {
   "cell_type": "code",
   "execution_count": 121,
   "metadata": {
    "collapsed": false
   },
   "outputs": [
    {
     "name": "stdout",
     "output_type": "stream",
     "text": [
      "Given Text:  Was it a rat I saw?\n",
      "Yes, It is a palindrome\n"
     ]
    }
   ],
   "source": [
    "n=len(text)-1\n",
    "flag=0\n",
    "for i in range (len(text)/2+1):\n",
    "    if(i>n):\n",
    "        break\n",
    "    if(text[i]==text[n]):\n",
    "        n=n-1\n",
    "        continue\n",
    "    else:\n",
    "        flag=1\n",
    "        break\n",
    "print \"Given Text: \",orig\n",
    "if(flag==0):\n",
    "    print \"Yes, It is a palindrome\"\n",
    "elif(flag==1):\n",
    "    print \"No, not a palindrome\""
   ]
  }
 ],
 "metadata": {
  "kernelspec": {
   "display_name": "Python 2",
   "language": "python",
   "name": "python2"
  },
  "language_info": {
   "codemirror_mode": {
    "name": "ipython",
    "version": 2
   },
   "file_extension": ".py",
   "mimetype": "text/x-python",
   "name": "python",
   "nbconvert_exporter": "python",
   "pygments_lexer": "ipython2",
   "version": "2.7.12"
  }
 },
 "nbformat": 4,
 "nbformat_minor": 0
}
